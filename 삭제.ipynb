{
 "cells": [
  {
   "cell_type": "code",
   "execution_count": 1,
   "metadata": {},
   "outputs": [
    {
     "data": {
      "text/plain": [
       "<_io.BufferedReader name='recording.wav'>"
      ]
     },
     "execution_count": 1,
     "metadata": {},
     "output_type": "execute_result"
    }
   ],
   "source": [
    "file = open('recording.wav', \"rb\")\n",
    "file"
   ]
  },
  {
   "cell_type": "code",
   "execution_count": 2,
   "metadata": {},
   "outputs": [],
   "source": [
    "import base64\n",
    "audioContents = base64.b64encode(file.read()).decode(\"utf8\")"
   ]
  },
  {
   "cell_type": "code",
   "execution_count": 3,
   "metadata": {},
   "outputs": [
    {
     "data": {
      "text/plain": [
       "'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'"
      ]
     },
     "execution_count": 3,
     "metadata": {},
     "output_type": "execute_result"
    }
   ],
   "source": []
  },
  {
   "cell_type": "code",
   "execution_count": null,
   "metadata": {},
   "outputs": [],
   "source": []
  }
 ],
 "metadata": {
  "kernelspec": {
   "display_name": "Python 3",
   "language": "python",
   "name": "python3"
  },
  "language_info": {
   "codemirror_mode": {
    "name": "ipython",
    "version": 3
   },
   "file_extension": ".py",
   "mimetype": "text/x-python",
   "name": "python",
   "nbconvert_exporter": "python",
   "pygments_lexer": "ipython3",
   "version": "3.9.7"
  },
  "orig_nbformat": 4,
  "vscode": {
   "interpreter": {
    "hash": "18dc3b8c9de875d2deb6bb5a63292e463d82282e7fe5d4de4b13c5fc18047171"
   }
  }
 },
 "nbformat": 4,
 "nbformat_minor": 2
}
